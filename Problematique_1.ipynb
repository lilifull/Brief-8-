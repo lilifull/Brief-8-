{
 "cells": [
  {
   "cell_type": "markdown",
   "id": "43d2dd35",
   "metadata": {},
   "source": [
    "# Tutoriel de résolution d'un problème de machine learning : clustering de différents types de fleurs sans informations préalables"
   ]
  },
  {
   "cell_type": "markdown",
   "id": "04564afc",
   "metadata": {},
   "source": [
    "<span style=\"color: #FF0000\">Ton nom de fichier n'est pas claire on ne sait pas quel tutoriel correspond à quel fichier </span>"
   ]
  },
  {
   "cell_type": "markdown",
   "id": "c19bd687",
   "metadata": {},
   "source": [
    "## Problématique étudiée"
   ]
  },
  {
   "cell_type": "markdown",
   "id": "2902cc9a",
   "metadata": {},
   "source": [
    "L'objectif de ce cas est de trouver des groupes de fleurs, sans information préalable sur le type de fleur disponible avec le dataset Iris.\n",
    "\n",
    "Il s'agit donc d'un cas de **machine learning non supervisé**, et plus spécifiquement d'un cas de **clustering**.\n",
    "\n",
    "Ce notebook va vous guider à travers ce cas concret de clustering, et va utiliser un modèle particulier de machine learning pour réaliser cette tâche : le **K-Means clustering**. Les parties suivantes sont dédiées à l'implémentation de ce modèle grâce à l'utilisation de la librairie scikit-learn."
   ]
  },
  {
   "cell_type": "markdown",
   "id": "33bbf41f",
   "metadata": {},
   "source": [
    "## Code"
   ]
  },
  {
   "cell_type": "markdown",
   "id": "3a449ea2",
   "metadata": {},
   "source": [
    "### Importation des différentes librairies "
   ]
  },
  {
   "cell_type": "code",
   "execution_count": 1,
   "id": "f5c91303",
   "metadata": {},
   "outputs": [],
   "source": [
    "import matplotlib.pyplot as plt\n",
    "import numpy as np\n",
    "from time import time\n",
    "from sklearn import datasets, metrics\n",
    "from sklearn.datasets import load_iris\n",
    "from sklearn.pipeline import make_pipeline\n",
    "from sklearn.preprocessing import StandardScaler\n",
    "from sklearn.cluster import KMeans\n",
    "from sklearn.decomposition import PCA\n"
   ]
  },
  {
   "cell_type": "markdown",
   "id": "53d4514a",
   "metadata": {},
   "source": [
    "### Importation du dataset "
   ]
  },
  {
   "cell_type": "markdown",
   "id": "3d7a0179",
   "metadata": {},
   "source": [
    "La première étape est d'importer le dataset et de voir de quoi il est constitué. Ici on importe le dataset Iris."
   ]
  },
  {
   "cell_type": "markdown",
   "id": "8c7dc27e",
   "metadata": {},
   "source": [
    "<span style=\"color: #FF0000\">Pour afficher la description proprement il faut faire un print comme ca les indications de saut de ligne, d'espace etc sont utiles.</span>"
   ]
  },
  {
   "cell_type": "code",
   "execution_count": 2,
   "id": "9fda3e8b",
   "metadata": {},
   "outputs": [
    {
     "name": "stdout",
     "output_type": "stream",
     "text": [
      ".. _iris_dataset:\n",
      "\n",
      "Iris plants dataset\n",
      "--------------------\n",
      "\n",
      "**Data Set Characteristics:**\n",
      "\n",
      "    :Number of Instances: 150 (50 in each of three classes)\n",
      "    :Number of Attributes: 4 numeric, predictive attributes and the class\n",
      "    :Attribute Information:\n",
      "        - sepal length in cm\n",
      "        - sepal width in cm\n",
      "        - petal length in cm\n",
      "        - petal width in cm\n",
      "        - class:\n",
      "                - Iris-Setosa\n",
      "                - Iris-Versicolour\n",
      "                - Iris-Virginica\n",
      "                \n",
      "    :Summary Statistics:\n",
      "\n",
      "    ============== ==== ==== ======= ===== ====================\n",
      "                    Min  Max   Mean    SD   Class Correlation\n",
      "    ============== ==== ==== ======= ===== ====================\n",
      "    sepal length:   4.3  7.9   5.84   0.83    0.7826\n",
      "    sepal width:    2.0  4.4   3.05   0.43   -0.4194\n",
      "    petal length:   1.0  6.9   3.76   1.76    0.9490  (high!)\n",
      "    petal width:    0.1  2.5   1.20   0.76    0.9565  (high!)\n",
      "    ============== ==== ==== ======= ===== ====================\n",
      "\n",
      "    :Missing Attribute Values: None\n",
      "    :Class Distribution: 33.3% for each of 3 classes.\n",
      "    :Creator: R.A. Fisher\n",
      "    :Donor: Michael Marshall (MARSHALL%PLU@io.arc.nasa.gov)\n",
      "    :Date: July, 1988\n",
      "\n",
      "The famous Iris database, first used by Sir R.A. Fisher. The dataset is taken\n",
      "from Fisher's paper. Note that it's the same as in R, but not as in the UCI\n",
      "Machine Learning Repository, which has two wrong data points.\n",
      "\n",
      "This is perhaps the best known database to be found in the\n",
      "pattern recognition literature.  Fisher's paper is a classic in the field and\n",
      "is referenced frequently to this day.  (See Duda & Hart, for example.)  The\n",
      "data set contains 3 classes of 50 instances each, where each class refers to a\n",
      "type of iris plant.  One class is linearly separable from the other 2; the\n",
      "latter are NOT linearly separable from each other.\n",
      "\n",
      ".. topic:: References\n",
      "\n",
      "   - Fisher, R.A. \"The use of multiple measurements in taxonomic problems\"\n",
      "     Annual Eugenics, 7, Part II, 179-188 (1936); also in \"Contributions to\n",
      "     Mathematical Statistics\" (John Wiley, NY, 1950).\n",
      "   - Duda, R.O., & Hart, P.E. (1973) Pattern Classification and Scene Analysis.\n",
      "     (Q327.D83) John Wiley & Sons.  ISBN 0-471-22361-1.  See page 218.\n",
      "   - Dasarathy, B.V. (1980) \"Nosing Around the Neighborhood: A New System\n",
      "     Structure and Classification Rule for Recognition in Partially Exposed\n",
      "     Environments\".  IEEE Transactions on Pattern Analysis and Machine\n",
      "     Intelligence, Vol. PAMI-2, No. 1, 67-71.\n",
      "   - Gates, G.W. (1972) \"The Reduced Nearest Neighbor Rule\".  IEEE Transactions\n",
      "     on Information Theory, May 1972, 431-433.\n",
      "   - See also: 1988 MLC Proceedings, 54-64.  Cheeseman et al\"s AUTOCLASS II\n",
      "     conceptual clustering system finds 3 classes in the data.\n",
      "   - Many, many more ...\n"
     ]
    }
   ],
   "source": [
    "# Import the iris dataset\n",
    "iris = datasets.load_iris()\n",
    "iris.DESCR\n",
    "print(iris.DESCR)"
   ]
  },
  {
   "cell_type": "markdown",
   "id": "c8d5f5c0",
   "metadata": {},
   "source": [
    "On voit grâce à la description détaillée qu'il s'agit d'un dataset qui classe les fleurs dans des types (targets) en fonction de la taille de leurs sépales et pétales (features). <span style=\"color: #FF0000\">ce sont des classes de fleurs si on veut être précis</span>\n",
    "\n",
    "Il existe 3 types de fleurs (target) : setosa, versicolor, virginica avec 50 fleurs dans chaque types.\n",
    "On a 4 features numériques pour chaque fleur : sepal length (cm), sepal width (cm), petal length (cm), petal width (cm).\n",
    "\n",
    "Nous sommes donc en possession de 150 lignes de 4 colonnes.\n",
    "Ici nous allons seulement utiliser les features car nous allons faire du machine learning non supervisé, c'est à dire que les datas n'ont pas de labels."
   ]
  },
  {
   "cell_type": "markdown",
   "id": "d5e048f8",
   "metadata": {},
   "source": [
    "## Méthode K means"
   ]
  },
  {
   "cell_type": "markdown",
   "id": "687e3fbf",
   "metadata": {},
   "source": [
    "On commence par définir les données d'entrée X, on n'utilisera pas les données y car c'est un cas de machine learning non supervisé. \n",
    "\n",
    "<span style=\"color: #FF0000\">C'est partiellement vrai tu pourrai préciser que les données y nous servent à vérifier notre résultats.</span>"
   ]
  },
  {
   "cell_type": "code",
   "execution_count": 3,
   "id": "f0e1ebf8",
   "metadata": {},
   "outputs": [],
   "source": [
    "data, labels = load_iris(return_X_y=True)\n"
   ]
  },
  {
   "cell_type": "code",
   "execution_count": 4,
   "id": "e9ea19dd",
   "metadata": {},
   "outputs": [],
   "source": [
    "X = data\n"
   ]
  },
  {
   "cell_type": "markdown",
   "id": "cc955722",
   "metadata": {},
   "source": [
    "Les données vont être regroupées par le modèle en cluster, on peut spécifier le nombre de clusters dans les paramètres du modèle. Avec la méthode des coudes (Elbow methode), nous allons définir le nombre de cluster optimal pour nos données.\n",
    "\n",
    "<span style=\"color: #FF0000\"> Ce n'est pas forcement une erreure mais on m'a appris à faire la méthode des coudes avec un diagramme et une une courbe pour que l'on ce représente mieux les écarts.</span>\n",
    "\n",
    "<span style=\"color: #FF0000\"> J'ai fais des recherches mais je n'ai pas trouvé ma réponse mais il me semble qu'il y avait une histoire d'angle à calculer pour faire une selection aussi (une autre méthode que celle des coudes) mais je ne retrouve plus ce que c'était.</span>"
   ]
  },
  {
   "cell_type": "code",
   "execution_count": 5,
   "id": "ede19c3a",
   "metadata": {},
   "outputs": [
    {
     "data": {
      "text/plain": [
       "Text(0, 0.5, 'Cout du modele (Inertia)')"
      ]
     },
     "execution_count": 5,
     "metadata": {},
     "output_type": "execute_result"
    },
    {
     "data": {
      "image/png": "[encoded data removed]",
      "text/plain": [
       "<Figure size 432x288 with 1 Axes>"
      ]
     },
     "metadata": {
      "needs_background": "light"
     },
     "output_type": "display_data"
    }
   ],
   "source": [
    "inertia = []\n",
    "K_range = range(1, 10)\n",
    "for k in K_range:\n",
    "    model = KMeans(n_clusters=k).fit(X)\n",
    "    inertia.append(model.inertia_)\n",
    "plt.plot(K_range, inertia)\n",
    "plt.xlabel(\"nombre de clusters\")\n",
    "plt.ylabel(\"Cout du modele (Inertia)\")"
   ]
  },
  {
   "cell_type": "markdown",
   "id": "d4db2f4c",
   "metadata": {},
   "source": [
    "Le nombre optimal de clusters est le point après lequel l'inertie commence à diminuer de manière linéaire. Ainsi, pour les données de ce dataset ce nombre (n_clusters) est égal à 3. Ce qui est bien en corrélation avec les informations que nous avons sur le dataset : nous avons les données de 3 variétées d'iris setosa, versicolor et virginica.\n",
    "\n",
    "<span style=\"color: #FF0000\">Selon ton explication on pourrait également choisir 2 clusters, tu peux préciser qu'on fini par en choisir 3 car on sait que dans notre jeu il y a 3 classes différentes. </span>"
   ]
  },
  {
   "cell_type": "markdown",
   "id": "62689a34",
   "metadata": {},
   "source": [
    "Puis nous choisissons le modèle à mettre en place (Kmeans), nous l'apprenons, et nous affichons le résultat."
   ]
  },
  {
   "cell_type": "code",
   "execution_count": 6,
   "id": "e5cd468d",
   "metadata": {},
   "outputs": [
    {
     "data": {
      "text/plain": [
       "78.851441426146"
      ]
     },
     "execution_count": 6,
     "metadata": {},
     "output_type": "execute_result"
    },
    {
     "data": {
      "image/png": "[encoded data removed]",
      "text/plain": [
       "<Figure size 432x288 with 1 Axes>"
      ]
     },
     "metadata": {
      "needs_background": "light"
     },
     "output_type": "display_data"
    }
   ],
   "source": [
    "model = KMeans(n_clusters=3, n_init=10)\n",
    "model.fit(X)\n",
    "model.predict(X)\n",
    "plt.scatter(X[:, 0], X[:, 1], c=model.predict(X))\n",
    "plt.scatter(model.cluster_centers_[:, 0], model.cluster_centers_[:, 1], c=\"r\")\n",
    "model.inertia_"
   ]
  },
  {
   "cell_type": "markdown",
   "id": "cfac6f65",
   "metadata": {},
   "source": [
    "Sur la figure on peut voir les clusters que le modèle a crée avec les points de différentes couleurs, et les centroïdes de chaque cluster sont en rouge. Le score d'inertie (la somme des distances au carré des échantillons à leur cluster centroïde le plus proche) est de 78.85. <span style=\"color: #FF0000\">c'est la valeure que l'on cherche à minimiser en choisissant un nombre de clusters différent !</span>"
   ]
  },
  {
   "cell_type": "code",
   "execution_count": 7,
   "id": "428ba73a",
   "metadata": {},
   "outputs": [
    {
     "name": "stdout",
     "output_type": "stream",
     "text": [
      "Le cluster 0 contient 50 fleurs, le cluster 1 contient 62 fleurs et le cluster 2 contient 38 fleurs\n"
     ]
    }
   ],
   "source": [
    "type_de_fleurs = model.predict(X)\n",
    "np.sort(type_de_fleurs)\n",
    "x = type_de_fleurs\n",
    "unique, counts = np.unique(x, return_counts=True)\n",
    "x_count = np.asarray((unique, counts)).T\n",
    "print(\n",
    "    \"Le cluster 0 contient {} fleurs, le cluster 1 contient {} fleurs et le cluster 2 contient {} fleurs\".format(\n",
    "        x_count[0][1], x_count[1][1], x_count[2][1]\n",
    "    )\n",
    ")"
   ]
  },
  {
   "cell_type": "markdown",
   "id": "df7d5c41",
   "metadata": {},
   "source": [
    "On peut voir que le clustering n'est pas parfait, car grâce à la description nous savons que chaque type de fleurs contient 50 fleurs. \n",
    "\n",
    "<span style=\"color: #FF0000\">Bonne analyse ! Tu aurai pu également rajouter un plot à côter montrant la répartition de tes classes avec les valeures présentent dans le data set (*target*)</span>"
   ]
  },
  {
   "cell_type": "markdown",
   "id": "19a70883",
   "metadata": {},
   "source": [
    "# Test de différents modèles"
   ]
  },
  {
   "cell_type": "markdown",
   "id": "d1d55d25",
   "metadata": {},
   "source": [
    "Dans cette partie, nous comparons les différentes stratégies d'initialisation de K-means en termes de temps d'exécution et de qualité des résultats."
   ]
  },
  {
   "cell_type": "markdown",
   "id": "a1b9ca35",
   "metadata": {},
   "source": [
    "### Définir notre benchmark d'évaluation"
   ]
  },
  {
   "cell_type": "markdown",
   "id": "3538020b",
   "metadata": {},
   "source": [
    "Nous allons d'abord définir notre benchmark d'évaluation. \n",
    "Au cours de ce benchmark, nous avons l'intention de comparer différentes méthodes d'initialisation pour KMeans. \n",
    "\n",
    "Notre benchmark va :\n",
    "\n",
    "- créer un pipeline qui mettra à l'échelle les données en utilisant un StandardScaler ;\n",
    "\n",
    "- entraîner et chronométrer l'adaptation du pipeline ;\n",
    "\n",
    "- mesurer la performance du clustering obtenu via différentes métriques."
   ]
  },
  {
   "cell_type": "code",
   "execution_count": 8,
   "id": "c452ecf2",
   "metadata": {},
   "outputs": [],
   "source": [
    "(n_samples, n_features), n_fleur_type = data.shape, np.unique(labels).size\n",
    "\n",
    "\n",
    "def bench_k_means(kmeans, name, data, labels):\n",
    "\n",
    "    t0 = time()\n",
    "    estimator = make_pipeline(StandardScaler(), kmeans).fit(data)\n",
    "    fit_time = time() - t0\n",
    "    results = [name, fit_time, estimator[-1].inertia_]\n",
    "\n",
    "    clustering_metrics = [\n",
    "        metrics.homogeneity_score,\n",
    "        metrics.completeness_score,\n",
    "        metrics.v_measure_score,\n",
    "        metrics.adjusted_rand_score,\n",
    "        metrics.adjusted_mutual_info_score,\n",
    "    ]\n",
    "    results += [m(labels, estimator[-1].labels_) for m in clustering_metrics]\n",
    "\n",
    "    # The silhouette score requires the full dataset\n",
    "    results += [\n",
    "        metrics.silhouette_score(\n",
    "            data,\n",
    "            estimator[-1].labels_,\n",
    "            metric=\"euclidean\",\n",
    "            sample_size=300,\n",
    "        )\n",
    "    ]\n",
    "\n",
    "    # Show the results\n",
    "    formatter_result = (\n",
    "        \"{:9s}\\t{:.3f}s\\t{:.0f}\\t{:.3f}\\t{:.3f}\\t{:.3f}\\t{:.3f}\\t{:.3f}\\t{:.3f}\"\n",
    "    )\n",
    "    print(formatter_result.format(*results))"
   ]
  },
  {
   "cell_type": "markdown",
   "id": "6c03327c",
   "metadata": {},
   "source": [
    "### Exécuter le benchmark"
   ]
  },
  {
   "cell_type": "markdown",
   "id": "bb50e881",
   "metadata": {},
   "source": [
    "Nous allons comparer trois approches :\n",
    "\n",
    "- une initialisation utilisant kmeans++. Cette méthode est stochastique et nous allons exécuter l'initialisation 4 fois ;\n",
    "\n",
    "- une initialisation aléatoire. Cette méthode est également stochastique et nous allons exécuter l'initialisation 4 fois ;\n",
    "\n",
    "- une initialisation basée sur une projection PCA. En effet, nous utiliserons les composantes de l'ACP pour initialiser KMeans. Cette méthode est déterministe et une seule initialisation suffit.\n",
    "- <span style=\"color: #FF0000\">essayé de résumé en quelque mots en quoi consciste l'ACP.</span>\n",
    "\n",
    "<span style=\"color: #FF0000\">Exemple : Permet de calculer des matrices pour projeter les variables dans un nouvel espace en utilisant une nouvelle matrice qui montre le degré de similarité entre les variables (grâce au coefficient de corrélation de pearson ou la covariance).</span>\n",
    "\n",
    "*stochastique* = qui se produit par l'effet du hasard.\n"
   ]
  },
  {
   "cell_type": "code",
   "execution_count": 9,
   "id": "2a9caa4c",
   "metadata": {},
   "outputs": [
    {
     "name": "stdout",
     "output_type": "stream",
     "text": [
      "__________________________________________________________________________________\n",
      "init\t\ttime\tinertia\thomo\tcompl\tv-meas\tARI\tAMI\tsilhouette\n",
      "k-means++\t0.125s\t140\t0.659\t0.660\t0.659\t0.620\t0.655\t0.506\n",
      "random   \t0.132s\t140\t0.659\t0.660\t0.659\t0.620\t0.655\t0.506\n",
      "PCA-based\t0.040s\t191\t0.535\t0.657\t0.590\t0.433\t0.584\t0.519\n",
      "__________________________________________________________________________________\n"
     ]
    }
   ],
   "source": [
    "print(82 * \"_\")\n",
    "print(\"init\\t\\ttime\\tinertia\\thomo\\tcompl\\tv-meas\\tARI\\tAMI\\tsilhouette\")\n",
    "\n",
    "kmeans = KMeans(init=\"k-means++\", n_clusters=n_fleur_type,\n",
    "                n_init=4, random_state=0)\n",
    "bench_k_means(kmeans=kmeans, name=\"k-means++\", data=data, labels=labels)\n",
    "\n",
    "kmeans = KMeans(init=\"random\", n_clusters=n_fleur_type,\n",
    "                n_init=4, random_state=0)\n",
    "bench_k_means(kmeans=kmeans, name=\"random\", data=data, labels=labels)\n",
    "\n",
    "pca = PCA(n_components=n_fleur_type).fit(data)\n",
    "kmeans = KMeans(init=pca.components_, n_clusters=n_fleur_type, n_init=1)\n",
    "bench_k_means(kmeans=kmeans, name=\"PCA-based\", data=data, labels=labels)\n",
    "\n",
    "print(82 * \"_\")\n"
   ]
  },
  {
   "cell_type": "markdown",
   "id": "69fab9cc",
   "metadata": {},
   "source": [
    "**homo (homogeneity score):** chaque cluster ne contient que des membres d'une seule classe. Valeur de 0 à 1, doit se rapprocher de 1.\n",
    "\n",
    "**compl (completeness score):** tous les membres d'une classe donnée sont assignés au même cluster. Valeur de 0 à 1, doit se rapprocher de 1.\n",
    "\n",
    "**V-means (V measure):** est la moyenne harmonique entre l'homogénéité et la complétude. Valeur entre 0,0 et 1,0. 1.0 correspond à un étiquetage parfait. <span style=\"color: #FF0000\">tu aurais pu utiliser des mots plus simple mais si on parle mieu Français que moi ça va c'est clair</span>\n",
    "\n",
    "**ARI (adjusted Rand index):** Score de similarité entre -1,0 et 1,0. Les étiquetages aléatoires ont un ARI proche de 0,0. 1.0 correspond à une correspondance parfaite. <span style=\"color: #FF0000\">tu aurai pu ajouter du coup à quoi correspond un ARI de -1 comme tu as fais pour silhouette</span>\n",
    "\n",
    "**AMI (adjusted mutual information):** L'AMI renvoie une valeur de 1 lorsque les deux partitions sont identiques (c'est-à-dire parfaitement appariées). Les partitions aléatoires (étiquetages indépendants) ont un AMI attendu autour de 0 en moyenne et peuvent donc être négatives.\n",
    "\n",
    "**Silhouette:** Le coefficient de silhouette est calculé en utilisant la distance intra-groupe moyenne (a) et la distance la plus proche (b) pour chaque échantillon. Cette fonction renvoie le Coefficient de Silhouette moyen sur tous les échantillons. La meilleure valeur est 1 et la pire valeur est -1. Les valeurs proches de 0 indiquent des clusters qui se chevauchent. Les valeurs négatives indiquent généralement qu'un échantillon a été assigné au mauvais cluster, car un cluster différent est plus similaire."
   ]
  },
  {
   "cell_type": "markdown",
   "id": "cb253948",
   "metadata": {},
   "source": [
    "Les résultats nous montrent que le modèle le plus rapide est le PCA mais qu'il à des metrics plus basses (homo, compl, v-meas, ARI, AMI), les modèles Kmeans avec une initialisation Kmeans++ et random ont exactement les mêmes metrics entre elles."
   ]
  },
  {
   "cell_type": "markdown",
   "id": "f179d006",
   "metadata": {},
   "source": [
    "###  Visualiser les résultats sur des données réduites par l'ACP"
   ]
  },
  {
   "cell_type": "markdown",
   "id": "4e696d2a",
   "metadata": {},
   "source": [
    "L'ACP permet de projeter les données de l'espace original à 64 dimensions dans un espace de dimension inférieure. Par la suite, nous pouvons utiliser l'ACP pour projeter les données dans un espace à 2 dimensions et tracer les données et les clusters dans ce nouvel espace. \n",
    "\n",
    "<span style=\"color: #FF0000\">On a un espace original de 16 dimension (4 * 4)</span>"
   ]
  },
  {
   "cell_type": "code",
   "execution_count": 10,
   "id": "0e25622c",
   "metadata": {},
   "outputs": [
    {
     "data": {
      "image/png": "[encoded data removed]",
      "text/plain": [
       "<Figure size 432x288 with 1 Axes>"
      ]
     },
     "metadata": {},
     "output_type": "display_data"
    }
   ],
   "source": [
    "reduced_data = PCA(n_components=2).fit_transform(data)\n",
    "kmeans = KMeans(init=\"k-means++\", n_clusters=n_fleur_type, n_init=4)\n",
    "kmeans.fit(reduced_data)\n",
    "\n",
    "# Step size of the mesh. Decrease to increase the quality of the VQ.\n",
    "h = 0.02  # point in the mesh [x_min, x_max]x[y_min, y_max].\n",
    "\n",
    "# Plot the decision boundary. For that, we will assign a color to each\n",
    "x_min, x_max = reduced_data[:, 0].min() - 1, reduced_data[:, 0].max() + 1\n",
    "y_min, y_max = reduced_data[:, 1].min() - 1, reduced_data[:, 1].max() + 1\n",
    "xx, yy = np.meshgrid(np.arange(x_min, x_max, h), np.arange(y_min, y_max, h))\n",
    "\n",
    "# Obtain labels for each point in mesh. Use last trained model.\n",
    "Z = kmeans.predict(np.c_[xx.ravel(), yy.ravel()])\n",
    "\n",
    "# Put the result into a color plot\n",
    "Z = Z.reshape(xx.shape)\n",
    "plt.figure(1)\n",
    "plt.clf()\n",
    "plt.imshow(\n",
    "    Z,\n",
    "    interpolation=\"nearest\",\n",
    "    extent=(xx.min(), xx.max(), yy.min(), yy.max()),\n",
    "    cmap=plt.cm.Paired,\n",
    "    aspect=\"auto\",\n",
    "    origin=\"lower\",\n",
    ")\n",
    "\n",
    "plt.plot(reduced_data[:, 0], reduced_data[:, 1], \"k.\", markersize=2)\n",
    "# Plot the centroids as a white X\n",
    "centroids = kmeans.cluster_centers_\n",
    "plt.scatter(\n",
    "    centroids[:, 0],\n",
    "    centroids[:, 1],\n",
    "    marker=\"x\",\n",
    "    s=169,\n",
    "    linewidths=3,\n",
    "    color=\"w\",\n",
    "    zorder=10,\n",
    ")\n",
    "plt.title(\n",
    "    \"K-means clustering on the digits dataset (PCA-reduced data)\\n\"\n",
    "    \"Centroids are marked with white cross\"\n",
    ")\n",
    "plt.xlim(x_min, x_max)\n",
    "plt.ylim(y_min, y_max)\n",
    "plt.xticks(())\n",
    "plt.yticks(())\n",
    "plt.show()\n"
   ]
  },
  {
   "cell_type": "markdown",
   "id": "de440033",
   "metadata": {},
   "source": [
    "Sur ce graphique nous pouvons visualiser les trois clusters séparés par les couleurs avec leurs centroïdes simbolisés d'une croix blanche."
   ]
  },
  {
   "cell_type": "markdown",
   "id": "90ef834c",
   "metadata": {},
   "source": [
    "### C'est la fin de ce tuto sur le modèle des K-means. Vous pouvez tester ce modèle avec d'autres paramètres (init, n_cluster, n_init...) ou d'autres données."
   ]
  },
  {
   "cell_type": "markdown",
   "id": "ed512064",
   "metadata": {},
   "source": [
    "<span style=\"color: #FF0000\">Tu pourrais faire une conclusion également sur la différence des résultats que tu as obtenue avec ta méthode simple et complexe et dire que dans ce cas la méthode la plus complexe ne donne pas des résultats très différents de la méthode la plus simple. Pour finir on voit qu'il n'est pas nécessaire d'utiliser des méthodes très complexes pour n'importe quel problème car les méthodes simples fonction parfois tout aussi bien.</span>"
   ]
  }
 ],
 "metadata": {
  "kernelspec": {
   "display_name": "Python 3 (ipykernel)",
   "language": "python",
   "name": "python3"
  },
  "language_info": {
   "codemirror_mode": {
    "name": "ipython",
    "version": 3
   },
   "file_extension": ".py",
   "mimetype": "text/x-python",
   "name": "python",
   "nbconvert_exporter": "python",
   "pygments_lexer": "ipython3",
   "version": "3.9.12"
  },
  "vscode": {
   "interpreter": {
    "hash": "cce956dd8b59511f520788cd9362dddc117670ac5ef39c9ede8ba85a43b854a0"
   }
  }
 },
 "nbformat": 4,
 "nbformat_minor": 5
}
