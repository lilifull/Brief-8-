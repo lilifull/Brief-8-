{
 "cells": [
  {
   "cell_type": "markdown",
   "id": "a2edc163",
   "metadata": {},
   "source": [
    "# Tutoriel de résolution d'un problème de machine learning : reconnaissance des chiffres 1 à 10 à partir des images fournies un dataset"
   ]
  },
  {
   "cell_type": "markdown",
   "id": "9b144ba5",
   "metadata": {},
   "source": [
    "## Problématique étudiée"
   ]
  },
  {
   "cell_type": "markdown",
   "id": "b8ad70be",
   "metadata": {},
   "source": [
    "La problématique étudiée est le cas avec le dataset hand-written digits. L'objectif de ce cas est de reconnaître des chiffres annotés à la main à partir d'une base de données disponible.\n",
    "\n",
    "Il s'agit donc d'un cas de **machine learning supervisé**, et plus spécifiquement d'un cas de **classification**.\n",
    "\n",
    "Ce notebook va vous guider à travers ce cas concret de classification, et va utiliser un modèle particulier de machine learning pour réaliser cette tâche : les *SVM* (ou *Support Vector Machines* en anglais, soit *machines à vecteurs support* en français). Les parties suivantes sont dédiées à l'implémentation de ce modèle grâce à l'utilisation de la librairie scikit-learn."
   ]
  },
  {
   "cell_type": "markdown",
   "id": "cd357cc9",
   "metadata": {},
   "source": [
    "## Code"
   ]
  },
  {
   "cell_type": "markdown",
   "id": "82f829e1",
   "metadata": {},
   "source": [
    "### Importation des différentes librairies "
   ]
  },
  {
   "cell_type": "code",
   "execution_count": 1,
   "id": "36ef423f",
   "metadata": {},
   "outputs": [],
   "source": [
    "from sklearn.datasets import load_digits\n",
    "import matplotlib.pyplot as plt\n",
    "from sklearn import svm, datasets\n",
    "from sklearn.inspection import DecisionBoundaryDisplay\n",
    "from sklearn import datasets, svm, metrics\n",
    "from sklearn.model_selection import train_test_split\n"
   ]
  },
  {
   "cell_type": "markdown",
   "id": "3ba1fbad",
   "metadata": {},
   "source": [
    "<span style=\"color: #FF0000\">Faire les import avant les from</span>"
   ]
  },
  {
   "cell_type": "markdown",
   "id": "b1a3385c",
   "metadata": {},
   "source": [
    "### Importation du dataset "
   ]
  },
  {
   "cell_type": "markdown",
   "id": "5858008b",
   "metadata": {},
   "source": [
    "La première étape est d'importer le dataset et de voir de quoi il est constitué. Ici on importe le dataset hand-written digits."
   ]
  },
  {
   "cell_type": "code",
   "execution_count": 2,
   "id": "835fe27b",
   "metadata": {},
   "outputs": [],
   "source": [
    "# Import the hand-written digits dataset\n",
    "digits = datasets.load_digits()\n"
   ]
  },
  {
   "cell_type": "markdown",
   "id": "88bacc85",
   "metadata": {},
   "source": [
    "<span style=\"color: #FF0000\">Pense au print pour une meilleure lisibilité du descriptif</span>"
   ]
  },
  {
   "cell_type": "code",
   "execution_count": 4,
   "id": "9cc0f016",
   "metadata": {},
   "outputs": [
    {
     "data": {
      "text/plain": [
       "\".. _digits_dataset:\\n\\nOptical recognition of handwritten digits dataset\\n--------------------------------------------------\\n\\n**Data Set Characteristics:**\\n\\n    :Number of Instances: 1797\\n    :Number of Attributes: 64\\n    :Attribute Information: 8x8 image of integer pixels in the range 0..16.\\n    :Missing Attribute Values: None\\n    :Creator: E. Alpaydin (alpaydin '@' boun.edu.tr)\\n    :Date: July; 1998\\n\\nThis is a copy of the test set of the UCI ML hand-written digits datasets\\nhttps://archive.ics.uci.edu/ml/datasets/Optical+Recognition+of+Handwritten+Digits\\n\\nThe data set contains images of hand-written digits: 10 classes where\\neach class refers to a digit.\\n\\nPreprocessing programs made available by NIST were used to extract\\nnormalized bitmaps of handwritten digits from a preprinted form. From a\\ntotal of 43 people, 30 contributed to the training set and different 13\\nto the test set. 32x32 bitmaps are divided into nonoverlapping blocks of\\n4x4 and the number of on pixels are counted in each block. This generates\\nan input matrix of 8x8 where each element is an integer in the range\\n0..16. This reduces dimensionality and gives invariance to small\\ndistortions.\\n\\nFor info on NIST preprocessing routines, see M. D. Garris, J. L. Blue, G.\\nT. Candela, D. L. Dimmick, J. Geist, P. J. Grother, S. A. Janet, and C.\\nL. Wilson, NIST Form-Based Handprint Recognition System, NISTIR 5469,\\n1994.\\n\\n.. topic:: References\\n\\n  - C. Kaynak (1995) Methods of Combining Multiple Classifiers and Their\\n    Applications to Handwritten Digit Recognition, MSc Thesis, Institute of\\n    Graduate Studies in Science and Engineering, Bogazici University.\\n  - E. Alpaydin, C. Kaynak (1998) Cascading Classifiers, Kybernetika.\\n  - Ken Tang and Ponnuthurai N. Suganthan and Xi Yao and A. Kai Qin.\\n    Linear dimensionalityreduction using relevance weighted LDA. School of\\n    Electrical and Electronic Engineering Nanyang Technological University.\\n    2005.\\n  - Claudio Gentile. A New Approximate Maximal Margin Classification\\n    Algorithm. NIPS. 2000.\\n\""
      ]
     },
     "execution_count": 4,
     "metadata": {},
     "output_type": "execute_result"
    }
   ],
   "source": [
    "# Dataset description\n",
    "digits.DESCR\n"
   ]
  },
  {
   "cell_type": "markdown",
   "id": "7bb42060",
   "metadata": {},
   "source": [
    "On voit grâce à la description détaillée qu'il s'agit d'un dataset qui cherche à faire de la reconnaissance optique de chiffres écrits à la main (grâce au titre), puis qu'il contient 1797 exemples de chiffres, avec 64 attributes par chiffre. Il se trouve que l'on comprend ensuite que ces attributes sont directement le nombre de pixels que contient chacune des 1797 images disponibles, chacune représentant un nombre entre 0 et 9 (c'est la partie attribute information qui nous renseigne là-dessus).\n",
    "\n",
    "Nous sommes donc en possession de 1797 images de 8x8 pixels qui représentent des chiffres de 0 à 9.\n",
    "\n",
    "Pour s'en assurer nous représentons quelques-uns de ces chiffres :"
   ]
  },
  {
   "cell_type": "code",
   "execution_count": 5,
   "id": "1ab63eed",
   "metadata": {},
   "outputs": [
    {
     "data": {
      "image/png": "[encoded data removed]",
      "text/plain": [
       "<Figure size 720x216 with 4 Axes>"
      ]
     },
     "metadata": {
      "needs_background": "light"
     },
     "output_type": "display_data"
    }
   ],
   "source": [
    "# Plot some data to show what they look like\n",
    "fig, axes = plt.subplots(nrows=1, ncols=4, figsize=(10, 3))\n",
    "for ax, image, label in zip(axes, digits.images, digits.target):\n",
    "    ax.set_axis_off()\n",
    "    ax.imshow(image, cmap=plt.cm.gray_r, interpolation=\"nearest\")\n",
    "    ax.set_title(\"Training: %i\" % label)\n"
   ]
  },
  {
   "cell_type": "code",
   "execution_count": 6,
   "id": "628b5b77",
   "metadata": {},
   "outputs": [
    {
     "data": {
      "text/plain": [
       "array([[ 0.,  0.,  5., 13.,  9.,  1.,  0.,  0.],\n",
       "       [ 0.,  0., 13., 15., 10., 15.,  5.,  0.],\n",
       "       [ 0.,  3., 15.,  2.,  0., 11.,  8.,  0.],\n",
       "       [ 0.,  4., 12.,  0.,  0.,  8.,  8.,  0.],\n",
       "       [ 0.,  5.,  8.,  0.,  0.,  9.,  8.,  0.],\n",
       "       [ 0.,  4., 11.,  0.,  1., 12.,  7.,  0.],\n",
       "       [ 0.,  2., 14.,  5., 10., 12.,  0.,  0.],\n",
       "       [ 0.,  0.,  6., 13., 10.,  0.,  0.,  0.]])"
      ]
     },
     "execution_count": 6,
     "metadata": {},
     "output_type": "execute_result"
    }
   ],
   "source": [
    "digits.images[0]\n"
   ]
  },
  {
   "cell_type": "markdown",
   "id": "24529781",
   "metadata": {},
   "source": [
    "Les images des chiffres manuscrits sont contenues dans un tableau *digits.images*. Chaque élément de ce tableau est une image représentée par une matrice 8x8 de valeurs numériques qui correspondent à des niveaux de gris allant du blanc, avec une valeur de 0, au noir, avec la valeur 15."
   ]
  },
  {
   "cell_type": "markdown",
   "id": "6c0c807f",
   "metadata": {},
   "source": [
    "### Phase d'apprentissage du modèle"
   ]
  },
  {
   "cell_type": "markdown",
   "id": "957d19d2",
   "metadata": {},
   "source": [
    "La première étape lors de l'utilisation d'une méthode d'apprentissage supervisée, c'est l'apprentissage. Dans cette étape, nous allons construire notre modèle en lui donnant un certain nombre d'exemples depuis notre base de données. La règle de base lors de cette étape est de séparer la base de données en deux : une partie pour l'apprentissage et une partie pour le test. Ceci afin de ne pas montrer lors de la phase de test des exemples de chiffres qui auraient servis lors de la phase d'apprentissage, car alors le test serait biaisé.\n",
    "\n",
    "Mais pour pouvoir apprendre un modèle, ce dernier a besoin de *features*, c'est-à-dire des nombres en entrée, servant à décrire nos images dans un *langage* compris par la machine. En traitement d'images, la solution la plus simple pour produire ces *features* consiste à *vectoriser* l'image, c'est-à-dire passer l'image 8x8 sous forme d'un vecteur de taille 64, dont chaque ligne représente la valeur d'un pixel en niveau de gris. C'est ce que nous faisons juste en-dessous :"
   ]
  },
  {
   "cell_type": "code",
   "execution_count": 7,
   "id": "80c78b31",
   "metadata": {},
   "outputs": [
    {
     "name": "stdout",
     "output_type": "stream",
     "text": [
      "Taille avant vectorisation : (1797, 8, 8)\n",
      "Taille après vectorisation : (1797, 64)\n"
     ]
    }
   ],
   "source": [
    "# flatten the images\n",
    "n_samples = len(digits.images)\n",
    "data = digits.images.reshape((n_samples, -1))\n",
    "# Print data shape to understand with what we work\n",
    "print(\n",
    "    \"Taille avant vectorisation : {}\\nTaille après vectorisation : {}\".format(\n",
    "        digits.images.shape, data.shape\n",
    "    )\n",
    ")"
   ]
  },
  {
   "cell_type": "markdown",
   "id": "7838cb5c",
   "metadata": {},
   "source": [
    "Puis, nous divisons notre jeu de données d'entrée en deux sous-ensembles, afin de constituer nos jeux de données d'apprentissage (constitué ici de 70 % des données de départ), et de test (30 % des données de départ)."
   ]
  },
  {
   "cell_type": "code",
   "execution_count": 8,
   "id": "4eb95f42",
   "metadata": {},
   "outputs": [],
   "source": [
    "# Split data into 70% train and 30% test subsets\n",
    "X_train, X_test, y_train, y_test = train_test_split(\n",
    "    data, digits.target, test_size=0.3, shuffle=False\n",
    ")\n"
   ]
  },
  {
   "cell_type": "markdown",
   "id": "b6f93e8d",
   "metadata": {},
   "source": [
    "Vous pouvez tester différents pourcentages de répartition des données et regarder l'effet de ces changements sur les différentes metrics (plus bas dans ce notebook)."
   ]
  },
  {
   "cell_type": "markdown",
   "id": "22304a66",
   "metadata": {},
   "source": [
    "Puis nous choisissons le modèle à mettre en place, nous l'apprenons, et nous le testons dans la foulée :"
   ]
  },
  {
   "cell_type": "code",
   "execution_count": 9,
   "id": "c7771109",
   "metadata": {},
   "outputs": [],
   "source": [
    "# Create a classifier: a support vector classifier\n",
    "clf = svm.SVC(kernel=\"rbf\", gamma=0.001, C=1)\n",
    "\n",
    "# Learn the digits on the train subset\n",
    "clf.fit(X_train, y_train)\n",
    "\n",
    "# Predict the value of the digit on the test subset\n",
    "predicted = clf.predict(X_test)\n"
   ]
  },
  {
   "cell_type": "markdown",
   "id": "5009f97f",
   "metadata": {},
   "source": [
    "Enfin, nous regardons quelques résultats de prédiction, pour voir de manière qualitative si le modèle semble bien fonctionner."
   ]
  },
  {
   "cell_type": "code",
   "execution_count": 10,
   "id": "e6ce2ad3",
   "metadata": {},
   "outputs": [
    {
     "data": {
      "image/png": "[encoded data removed]",
      "text/plain": [
       "<Figure size 720x216 with 4 Axes>"
      ]
     },
     "metadata": {
      "needs_background": "light"
     },
     "output_type": "display_data"
    }
   ],
   "source": [
    "fig, axes = plt.subplots(nrows=1, ncols=4, figsize=(10, 3))\n",
    "for ax, image, prediction in zip(axes, X_test, predicted):\n",
    "    ax.set_axis_off()\n",
    "    image = image.reshape(8, 8)\n",
    "    ax.imshow(image, cmap=plt.cm.gray_r, interpolation=\"nearest\")\n",
    "    ax.set_title(f\"Prediction: {prediction}\")\n"
   ]
  },
  {
   "cell_type": "markdown",
   "id": "9e16a6d5",
   "metadata": {},
   "source": [
    "### Vérification des résultats pour valider le modèle "
   ]
  },
  {
   "cell_type": "markdown",
   "id": "8c999414",
   "metadata": {},
   "source": [
    "Une étape essentielle après l'apprentissage et le test d'un modèle de machine learning est l'analyse de ses performances afin de valider s'il fonctionne ou non. Pour ce faire, nous utilisons différentes métriques, dont nous vous invitons à aller chercher les définitions en ligne : la précision, le recall, et le f1-score. Ces métriques doivent toutes tendre vers 1 lorsque le modèle fonctionne bien."
   ]
  },
  {
   "cell_type": "code",
   "execution_count": 11,
   "id": "68e18a4c",
   "metadata": {},
   "outputs": [
    {
     "name": "stdout",
     "output_type": "stream",
     "text": [
      "Classification report for classifier SVC(C=1, gamma=0.001):\n",
      "              precision    recall  f1-score   support\n",
      "\n",
      "           0       1.00      0.98      0.99        53\n",
      "           1       0.96      1.00      0.98        53\n",
      "           2       1.00      0.98      0.99        53\n",
      "           3       0.96      0.89      0.92        53\n",
      "           4       0.98      0.95      0.96        57\n",
      "           5       0.95      0.98      0.96        56\n",
      "           6       0.98      0.98      0.98        54\n",
      "           7       1.00      1.00      1.00        54\n",
      "           8       0.91      0.98      0.94        52\n",
      "           9       0.96      0.96      0.96        55\n",
      "\n",
      "    accuracy                           0.97       540\n",
      "   macro avg       0.97      0.97      0.97       540\n",
      "weighted avg       0.97      0.97      0.97       540\n",
      "\n",
      "\n"
     ]
    }
   ],
   "source": [
    "print(\n",
    "    f\"Classification report for classifier {clf}:\\n\"\n",
    "    f\"{metrics.classification_report(y_test, predicted)}\\n\"\n",
    ")\n"
   ]
  },
  {
   "cell_type": "markdown",
   "id": "0fb3b813",
   "metadata": {},
   "source": [
    "On constate que les résultats sont très corrects. La classe 8 est la moins bien reconnue. Il est intéressant de voir que le nombre d'images testées par classe est à peu près égal, ce qui assure une bonne représentativité de chaque classe dans les résultats (on parle de problème équilibré). Il est important de s'assurer de cet équilibre dès la phase d'apprentissage pour être certain de ne pas biaiser l'apprentissage de certaines classes (une classe sous-représentée pourrait être très peu prédite en pratique). On retrouve bien ici que 540 images en test représentent eniron 30 % de 1764 images du jeu de données complet, ce qui est cohérent.\n",
    "\n",
    "Pour analyser plus finement les résultats, on représente enuite la matrice de confusion, qui montre pour chaque classe le nombre de bonnes et mauvaises classification, et ce de manière croisée pour savoir dans quelles classes ont été prédites les erreurs de classification :"
   ]
  },
  {
   "cell_type": "code",
   "execution_count": 12,
   "id": "d2720c9e",
   "metadata": {},
   "outputs": [
    {
     "name": "stdout",
     "output_type": "stream",
     "text": [
      "Confusion matrix:\n",
      "[[52  0  0  0  1  0  0  0  0  0]\n",
      " [ 0 53  0  0  0  0  0  0  0  0]\n",
      " [ 0  0 52  1  0  0  0  0  0  0]\n",
      " [ 0  0  0 47  0  2  0  0  4  0]\n",
      " [ 0  0  0  0 54  0  0  0  1  2]\n",
      " [ 0  0  0  0  0 55  1  0  0  0]\n",
      " [ 0  1  0  0  0  0 53  0  0  0]\n",
      " [ 0  0  0  0  0  0  0 54  0  0]\n",
      " [ 0  1  0  0  0  0  0  0 51  0]\n",
      " [ 0  0  0  1  0  1  0  0  0 53]]\n"
     ]
    },
    {
     "data": {
      "image/png": "[encoded data removed]",
      "text/plain": [
       "<Figure size 432x288 with 2 Axes>"
      ]
     },
     "metadata": {
      "needs_background": "light"
     },
     "output_type": "display_data"
    }
   ],
   "source": [
    "disp = metrics.ConfusionMatrixDisplay.from_predictions(y_test, predicted)\n",
    "disp.figure_.suptitle(\"Confusion Matrix\")\n",
    "print(f\"Confusion matrix:\\n{disp.confusion_matrix}\")\n",
    "\n",
    "plt.show()\n"
   ]
  },
  {
   "cell_type": "markdown",
   "id": "0d1f2dbe",
   "metadata": {},
   "source": [
    "On remarque alors que les erreurs observés au global pour la classe 3 se concentrent dans la classe 8 et 5, et une analyse plus approfondie peut alors être menée pour déterminer pourquoi ces erreurs se font spécifiquement sur ces classes-là."
   ]
  },
  {
   "cell_type": "markdown",
   "id": "f350966f",
   "metadata": {},
   "source": [
    "On peut conclure que le modèle *SVM* est plus fiable que le modèle *random forest* pour cette problématique avec ces données (cf Tutoriel ML1)."
   ]
  },
  {
   "cell_type": "markdown",
   "id": "1c904f6f",
   "metadata": {},
   "source": [
    "## Exemple avec différents paramètres"
   ]
  },
  {
   "cell_type": "markdown",
   "id": "9f0ce8d3",
   "metadata": {},
   "source": [
    "Ici nous allons tester différents paramètres pour le modèle SVM et nottament faire varier le kernel et le gamma pour voir l'incidence sur les prévisions et les metrics."
   ]
  },
  {
   "cell_type": "markdown",
   "id": "657590e2",
   "metadata": {},
   "source": [
    "### Kernel"
   ]
  },
  {
   "cell_type": "markdown",
   "id": "e20a3eb5",
   "metadata": {},
   "source": [
    "Paramètre Kernel : Les algorithmes SVM utilisent un ensemble de fonctions mathématiques qui sont définies comme le noyau (= Kernel). La fonction du noyau est de prendre des données en entrée et de les transformer dans la forme requise. Les différents algorithmes SVM utilisent différents types de fonctions de noyau. Ces fonctions peuvent être de différents types. Par exemple, linéaire, non linéaire, polynomiale, fonction de base radiale (RBF) et sigmoïde."
   ]
  },
  {
   "cell_type": "code",
   "execution_count": 26,
   "id": "8508433a",
   "metadata": {},
   "outputs": [
    {
     "name": "stdout",
     "output_type": "stream",
     "text": [
      "Classification report for classifier SVC(C=1, gamma=0.001):\n",
      "              precision    recall  f1-score   support\n",
      "\n",
      "           0       0.96      0.98      0.97        53\n",
      "           1       0.92      0.91      0.91        53\n",
      "           2       1.00      0.96      0.98        53\n",
      "           3       0.90      0.85      0.87        53\n",
      "           4       0.98      0.93      0.95        57\n",
      "           5       0.95      0.98      0.96        56\n",
      "           6       0.96      0.98      0.97        54\n",
      "           7       0.96      0.96      0.96        54\n",
      "           8       0.82      0.87      0.84        52\n",
      "           9       0.88      0.91      0.89        55\n",
      "\n",
      "    accuracy                           0.93       540\n",
      "   macro avg       0.93      0.93      0.93       540\n",
      "weighted avg       0.93      0.93      0.93       540\n",
      "\n",
      "\n"
     ]
    },
    {
     "data": {
      "image/png": "[encoded data removed]",
      "text/plain": [
       "<Figure size 432x288 with 2 Axes>"
      ]
     },
     "metadata": {
      "needs_background": "light"
     },
     "output_type": "display_data"
    }
   ],
   "source": [
    "# Test avec un kernel linéaire\n",
    "clf2 = svm.SVC(kernel=\"linear\", C=1)\n",
    "clf2.fit(X_train, y_train)\n",
    "predicted2 = clf2.predict(X_test)\n",
    "\n",
    "print(\n",
    "    f\"Classification report for classifier {clf}:\\n\"\n",
    "    f\"{metrics.classification_report(y_test, predicted2)}\\n\"\n",
    ")\n",
    "disp = metrics.ConfusionMatrixDisplay.from_predictions(y_test, predicted2)\n",
    "disp.figure_.suptitle(\"Confusion Matrix\")\n",
    "\n",
    "plt.show()\n"
   ]
  },
  {
   "cell_type": "code",
   "execution_count": 27,
   "id": "0b522c86",
   "metadata": {},
   "outputs": [
    {
     "name": "stdout",
     "output_type": "stream",
     "text": [
      "Classification report for classifier SVC(C=1, gamma=0.001):\n",
      "              precision    recall  f1-score   support\n",
      "\n",
      "           0       0.96      0.96      0.96        53\n",
      "           1       0.96      0.94      0.95        53\n",
      "           2       1.00      0.94      0.97        53\n",
      "           3       0.92      0.89      0.90        53\n",
      "           4       0.98      0.95      0.96        57\n",
      "           5       0.93      0.98      0.96        56\n",
      "           6       0.96      0.98      0.97        54\n",
      "           7       0.95      0.98      0.96        54\n",
      "           8       0.91      0.94      0.92        52\n",
      "           9       0.91      0.91      0.91        55\n",
      "\n",
      "    accuracy                           0.95       540\n",
      "   macro avg       0.95      0.95      0.95       540\n",
      "weighted avg       0.95      0.95      0.95       540\n",
      "\n",
      "\n"
     ]
    },
    {
     "data": {
      "image/png": "[encoded data removed]",
      "text/plain": [
       "<Figure size 432x288 with 2 Axes>"
      ]
     },
     "metadata": {
      "needs_background": "light"
     },
     "output_type": "display_data"
    }
   ],
   "source": [
    "# Test avec un kernel poly\n",
    "clf3 = svm.SVC(kernel=\"poly\", degree=3, gamma=\"auto\", C=1)\n",
    "clf3.fit(X_train, y_train)\n",
    "predicted3 = clf3.predict(X_test)\n",
    "\n",
    "print(\n",
    "    f\"Classification report for classifier {clf}:\\n\"\n",
    "    f\"{metrics.classification_report(y_test, predicted3)}\\n\"\n",
    ")\n",
    "disp = metrics.ConfusionMatrixDisplay.from_predictions(y_test, predicted3)\n",
    "disp.figure_.suptitle(\"Confusion Matrix\")\n",
    "\n",
    "plt.show()\n"
   ]
  },
  {
   "cell_type": "markdown",
   "id": "9ef7df51",
   "metadata": {},
   "source": [
    "On peur voir que les différents Kernel donnent des score différents, le meilleur kernel est le 'rbf'."
   ]
  },
  {
   "cell_type": "markdown",
   "id": "ad90d8e6",
   "metadata": {},
   "source": [
    "### Gamma"
   ]
  },
  {
   "cell_type": "markdown",
   "id": "75119e3d",
   "metadata": {},
   "source": [
    "Paramètre Gamma :\n",
    "Le paramètre gamma définit la portée de l'influence d'un seul exemple d'apprentissage. Cela signifie qu'un Gamma élevé ne prendra en compte que les points proches de l'hyperplan plausible et qu'un Gamma faible prendra en compte les points plus éloignés."
   ]
  },
  {
   "cell_type": "code",
   "execution_count": 28,
   "id": "ae0bfb62",
   "metadata": {},
   "outputs": [
    {
     "name": "stdout",
     "output_type": "stream",
     "text": [
      "Classification report for classifier SVC(C=1, gamma=0.001):\n",
      "              precision    recall  f1-score   support\n",
      "\n",
      "           0       1.00      0.68      0.81        53\n",
      "           1       1.00      0.60      0.75        53\n",
      "           2       1.00      0.60      0.75        53\n",
      "           3       1.00      0.74      0.85        53\n",
      "           4       1.00      0.65      0.79        57\n",
      "           5       1.00      0.73      0.85        56\n",
      "           6       1.00      0.54      0.70        54\n",
      "           7       1.00      0.63      0.77        54\n",
      "           8       0.24      1.00      0.39        52\n",
      "           9       1.00      0.80      0.89        55\n",
      "\n",
      "    accuracy                           0.70       540\n",
      "   macro avg       0.92      0.70      0.75       540\n",
      "weighted avg       0.93      0.70      0.76       540\n",
      "\n",
      "\n"
     ]
    },
    {
     "data": {
      "image/png": "[encoded data removed]",
      "text/plain": [
       "<Figure size 432x288 with 2 Axes>"
      ]
     },
     "metadata": {
      "needs_background": "light"
     },
     "output_type": "display_data"
    }
   ],
   "source": [
    "# Test avec un gamma différent\n",
    "clf4 = svm.SVC(kernel=\"rbf\", gamma=0.01, C=1)\n",
    "clf4.fit(X_train, y_train)\n",
    "predicted4 = clf4.predict(X_test)\n",
    "\n",
    "print(\n",
    "    f\"Classification report for classifier {clf}:\\n\"\n",
    "    f\"{metrics.classification_report(y_test, predicted4)}\\n\"\n",
    ")\n",
    "disp = metrics.ConfusionMatrixDisplay.from_predictions(y_test, predicted4)\n",
    "disp.figure_.suptitle(\"Confusion Matrix\")\n",
    "\n",
    "plt.show()\n"
   ]
  },
  {
   "cell_type": "markdown",
   "id": "911c7871",
   "metadata": {},
   "source": [
    "On peur voir que le gamma à aussi une influence sur les metrics. Un gamma de 0.001 donne de meilleurs résultats qu'un gamme de 0.01."
   ]
  },
  {
   "cell_type": "markdown",
   "id": "5e3594c8",
   "metadata": {},
   "source": [
    "# C"
   ]
  },
  {
   "cell_type": "markdown",
   "id": "073174ca",
   "metadata": {},
   "source": [
    "Paramètre de régularisation :\n",
    "Le paramètre de régularisation (appelé C en python) indique à l'optimisation SVM dans quelle mesure vous souhaitez éviter les erreurs de classification pour chaque exemple d'apprentissage. Si le C est plus élevé, l'optimisation choisira un hyperplan de marge plus petit, ainsi le taux de classification erronée des données d'entraînement sera plus faible. D'autre part, si le C est faible, la marge sera grande, même s'il y aura des exemples de données de formation mal classés. "
   ]
  },
  {
   "cell_type": "code",
   "execution_count": 32,
   "id": "dd1d308e",
   "metadata": {},
   "outputs": [
    {
     "name": "stdout",
     "output_type": "stream",
     "text": [
      "Classification report for classifier SVC(C=1, gamma=0.001):\n",
      "              precision    recall  f1-score   support\n",
      "\n",
      "           0       1.00      0.98      0.99        53\n",
      "           1       0.96      1.00      0.98        53\n",
      "           2       1.00      0.98      0.99        53\n",
      "           3       0.96      0.91      0.93        53\n",
      "           4       0.98      0.95      0.96        57\n",
      "           5       0.95      0.98      0.96        56\n",
      "           6       0.98      0.98      0.98        54\n",
      "           7       1.00      1.00      1.00        54\n",
      "           8       0.94      0.98      0.96        52\n",
      "           9       0.95      0.96      0.95        55\n",
      "\n",
      "    accuracy                           0.97       540\n",
      "   macro avg       0.97      0.97      0.97       540\n",
      "weighted avg       0.97      0.97      0.97       540\n",
      "\n",
      "\n"
     ]
    },
    {
     "data": {
      "image/png": "[encoded data removed]",
      "text/plain": [
       "<Figure size 432x288 with 2 Axes>"
      ]
     },
     "metadata": {
      "needs_background": "light"
     },
     "output_type": "display_data"
    }
   ],
   "source": [
    "# Test avec un C différent\n",
    "clf5 = svm.SVC(kernel=\"rbf\", gamma=0.001, C=200)\n",
    "clf5.fit(X_train, y_train)\n",
    "predicted5 = clf5.predict(X_test)\n",
    "\n",
    "print(\n",
    "    f\"Classification report for classifier {clf}:\\n\"\n",
    "    f\"{metrics.classification_report(y_test, predicted5)}\\n\"\n",
    ")\n",
    "disp = metrics.ConfusionMatrixDisplay.from_predictions(y_test, predicted5)\n",
    "disp.figure_.suptitle(\"Confusion Matrix\")\n",
    "\n",
    "plt.show()\n"
   ]
  },
  {
   "cell_type": "markdown",
   "id": "3cfff22d",
   "metadata": {},
   "source": [
    "Ici un C de 200 donne les mêmes résultats que un C de 1."
   ]
  },
  {
   "cell_type": "markdown",
   "id": "724169ca",
   "metadata": {},
   "source": [
    "### C'est la fin de ce tuto sur le modèle de SVM. Vous pouvez tester ce modèle avec d'autres paramètres (Kernel, gamma, C, % de séparation des données tests/trains...) ou d'autres données."
   ]
  },
  {
   "cell_type": "markdown",
   "id": "957a1d10",
   "metadata": {},
   "source": [
    "<span style=\"color: #FF0000\">Avec ce que tu as montré tu pourrai finir sur une conclusion qui montre que l'usage d'un modèle plus ou moins complexe dépend de la complexité du problème. En l'occurence ici comme nous avons un prblème simple, nous n'avons pas besoin d'utiliser des kernel pour améliorer nos résultats, nous n'avons pas besoin d'un grand nombre de donnée train pour que le SVM ai un score élevé. nous n'avons pas besoin d'utiliser un réseau de neuronne qui est beaucoup plus complexe et long à ce lancer que le SVM, car ce dernier est déjç très efficace. Tu peux donc montrer qu'il faut adapter la complexité du modèle à la complexité du problème, de la même façon que l'on n'utilise pas un lance flamme pour allumer un barbecue</span>"
   ]
  }
 ],
 "metadata": {
  "kernelspec": {
   "display_name": "Python 3 (ipykernel)",
   "language": "python",
   "name": "python3"
  },
  "language_info": {
   "codemirror_mode": {
    "name": "ipython",
    "version": 3
   },
   "file_extension": ".py",
   "mimetype": "text/x-python",
   "name": "python",
   "nbconvert_exporter": "python",
   "pygments_lexer": "ipython3",
   "version": "3.9.12"
  }
 },
 "nbformat": 4,
 "nbformat_minor": 5
}
