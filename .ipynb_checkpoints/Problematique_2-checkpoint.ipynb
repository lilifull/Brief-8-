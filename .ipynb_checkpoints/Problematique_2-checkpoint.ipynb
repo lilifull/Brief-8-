{
 "cells": [
  {
   "cell_type": "markdown",
   "id": "54d29ba9",
   "metadata": {},
   "source": [
    "# Tutoriel de résolution d'un problème de machine learning : estimation du prix d'un bien"
   ]
  },
  {
   "cell_type": "markdown",
   "id": "8e593dc7",
   "metadata": {},
   "source": [
    "## Problématique étudiée"
   ]
  },
  {
   "cell_type": "markdown",
   "id": "0efa6dbc",
   "metadata": {},
   "source": [
    "L'objectif de ce cas est d'estimer le prix d'un bien à partir des paramètres d'entrées donnés dans le dataset California Housing.\n",
    "\n",
    "Il s'agit donc d'un cas de **machine learning supervisé**, et plus spécifiquement d'un cas de **régression**.\n",
    "\n",
    "Ce notebook va vous guider à travers ce cas concret de régression, et va utiliser un modèle particulier de machine learning pour réaliser cette tâche : la *régression linéaire*. Les parties suivantes sont dédiées à l'implémentation de ce modèle grâce à l'utilisation de la librairie scikit-learn."
   ]
  },
  {
   "cell_type": "markdown",
   "id": "d7ee857a",
   "metadata": {},
   "source": [
    "## Code"
   ]
  },
  {
   "cell_type": "markdown",
   "id": "63887d5d",
   "metadata": {},
   "source": [
    "### Importation des différentes librairies "
   ]
  },
  {
   "cell_type": "code",
   "execution_count": 28,
   "id": "59540dea",
   "metadata": {},
   "outputs": [],
   "source": [
    "from sklearn.datasets import fetch_california_housing\n",
    "import matplotlib.pyplot as plt\n",
    "import numpy as np\n",
    "from sklearn import datasets, linear_model\n",
    "from sklearn.metrics import mean_squared_error, r2_score\n",
    "import pandas as pd\n",
    "import seaborn as sns\n",
    "from sklearn.model_selection import train_test_split"
   ]
  },
  {
   "cell_type": "markdown",
   "id": "67f78d81",
   "metadata": {},
   "source": [
    "### Importation du dataset "
   ]
  },
  {
   "cell_type": "markdown",
   "id": "b94e9b07",
   "metadata": {},
   "source": [
    "La première étape est d'importer le dataset et de voir de quoi il est constitué. Ici on importe le dataset california housing."
   ]
  },
  {
   "cell_type": "code",
   "execution_count": 29,
   "id": "f2011c4b",
   "metadata": {},
   "outputs": [],
   "source": [
    "california_housing = fetch_california_housing(as_frame=True)"
   ]
  },
  {
   "cell_type": "markdown",
   "id": "991253e7",
   "metadata": {},
   "source": [
    "### Visualisation du dataset"
   ]
  },
  {
   "cell_type": "code",
   "execution_count": 30,
   "id": "0d42d664",
   "metadata": {},
   "outputs": [
    {
     "data": {
      "text/html": [
       "<div>\n",
       "<style scoped>\n",
       "    .dataframe tbody tr th:only-of-type {\n",
       "        vertical-align: middle;\n",
       "    }\n",
       "\n",
       "    .dataframe tbody tr th {\n",
       "        vertical-align: top;\n",
       "    }\n",
       "\n",
       "    .dataframe thead th {\n",
       "        text-align: right;\n",
       "    }\n",
       "</style>\n",
       "<table border=\"1\" class=\"dataframe\">\n",
       "  <thead>\n",
       "    <tr style=\"text-align: right;\">\n",
       "      <th></th>\n",
       "      <th>MedInc</th>\n",
       "      <th>HouseAge</th>\n",
       "      <th>AveRooms</th>\n",
       "      <th>AveBedrms</th>\n",
       "      <th>Population</th>\n",
       "      <th>AveOccup</th>\n",
       "      <th>Latitude</th>\n",
       "      <th>Longitude</th>\n",
       "    </tr>\n",
       "  </thead>\n",
       "  <tbody>\n",
       "    <tr>\n",
       "      <th>0</th>\n",
       "      <td>8.3252</td>\n",
       "      <td>41.0</td>\n",
       "      <td>6.984127</td>\n",
       "      <td>1.023810</td>\n",
       "      <td>322.0</td>\n",
       "      <td>2.555556</td>\n",
       "      <td>37.88</td>\n",
       "      <td>-122.23</td>\n",
       "    </tr>\n",
       "    <tr>\n",
       "      <th>1</th>\n",
       "      <td>8.3014</td>\n",
       "      <td>21.0</td>\n",
       "      <td>6.238137</td>\n",
       "      <td>0.971880</td>\n",
       "      <td>2401.0</td>\n",
       "      <td>2.109842</td>\n",
       "      <td>37.86</td>\n",
       "      <td>-122.22</td>\n",
       "    </tr>\n",
       "    <tr>\n",
       "      <th>2</th>\n",
       "      <td>7.2574</td>\n",
       "      <td>52.0</td>\n",
       "      <td>8.288136</td>\n",
       "      <td>1.073446</td>\n",
       "      <td>496.0</td>\n",
       "      <td>2.802260</td>\n",
       "      <td>37.85</td>\n",
       "      <td>-122.24</td>\n",
       "    </tr>\n",
       "    <tr>\n",
       "      <th>3</th>\n",
       "      <td>5.6431</td>\n",
       "      <td>52.0</td>\n",
       "      <td>5.817352</td>\n",
       "      <td>1.073059</td>\n",
       "      <td>558.0</td>\n",
       "      <td>2.547945</td>\n",
       "      <td>37.85</td>\n",
       "      <td>-122.25</td>\n",
       "    </tr>\n",
       "    <tr>\n",
       "      <th>4</th>\n",
       "      <td>3.8462</td>\n",
       "      <td>52.0</td>\n",
       "      <td>6.281853</td>\n",
       "      <td>1.081081</td>\n",
       "      <td>565.0</td>\n",
       "      <td>2.181467</td>\n",
       "      <td>37.85</td>\n",
       "      <td>-122.25</td>\n",
       "    </tr>\n",
       "    <tr>\n",
       "      <th>...</th>\n",
       "      <td>...</td>\n",
       "      <td>...</td>\n",
       "      <td>...</td>\n",
       "      <td>...</td>\n",
       "      <td>...</td>\n",
       "      <td>...</td>\n",
       "      <td>...</td>\n",
       "      <td>...</td>\n",
       "    </tr>\n",
       "    <tr>\n",
       "      <th>20635</th>\n",
       "      <td>1.5603</td>\n",
       "      <td>25.0</td>\n",
       "      <td>5.045455</td>\n",
       "      <td>1.133333</td>\n",
       "      <td>845.0</td>\n",
       "      <td>2.560606</td>\n",
       "      <td>39.48</td>\n",
       "      <td>-121.09</td>\n",
       "    </tr>\n",
       "    <tr>\n",
       "      <th>20636</th>\n",
       "      <td>2.5568</td>\n",
       "      <td>18.0</td>\n",
       "      <td>6.114035</td>\n",
       "      <td>1.315789</td>\n",
       "      <td>356.0</td>\n",
       "      <td>3.122807</td>\n",
       "      <td>39.49</td>\n",
       "      <td>-121.21</td>\n",
       "    </tr>\n",
       "    <tr>\n",
       "      <th>20637</th>\n",
       "      <td>1.7000</td>\n",
       "      <td>17.0</td>\n",
       "      <td>5.205543</td>\n",
       "      <td>1.120092</td>\n",
       "      <td>1007.0</td>\n",
       "      <td>2.325635</td>\n",
       "      <td>39.43</td>\n",
       "      <td>-121.22</td>\n",
       "    </tr>\n",
       "    <tr>\n",
       "      <th>20638</th>\n",
       "      <td>1.8672</td>\n",
       "      <td>18.0</td>\n",
       "      <td>5.329513</td>\n",
       "      <td>1.171920</td>\n",
       "      <td>741.0</td>\n",
       "      <td>2.123209</td>\n",
       "      <td>39.43</td>\n",
       "      <td>-121.32</td>\n",
       "    </tr>\n",
       "    <tr>\n",
       "      <th>20639</th>\n",
       "      <td>2.3886</td>\n",
       "      <td>16.0</td>\n",
       "      <td>5.254717</td>\n",
       "      <td>1.162264</td>\n",
       "      <td>1387.0</td>\n",
       "      <td>2.616981</td>\n",
       "      <td>39.37</td>\n",
       "      <td>-121.24</td>\n",
       "    </tr>\n",
       "  </tbody>\n",
       "</table>\n",
       "<p>20640 rows × 8 columns</p>\n",
       "</div>"
      ],
      "text/plain": [
       "       MedInc  HouseAge  AveRooms  AveBedrms  Population  AveOccup  Latitude  \\\n",
       "0      8.3252      41.0  6.984127   1.023810       322.0  2.555556     37.88   \n",
       "1      8.3014      21.0  6.238137   0.971880      2401.0  2.109842     37.86   \n",
       "2      7.2574      52.0  8.288136   1.073446       496.0  2.802260     37.85   \n",
       "3      5.6431      52.0  5.817352   1.073059       558.0  2.547945     37.85   \n",
       "4      3.8462      52.0  6.281853   1.081081       565.0  2.181467     37.85   \n",
       "...       ...       ...       ...        ...         ...       ...       ...   \n",
       "20635  1.5603      25.0  5.045455   1.133333       845.0  2.560606     39.48   \n",
       "20636  2.5568      18.0  6.114035   1.315789       356.0  3.122807     39.49   \n",
       "20637  1.7000      17.0  5.205543   1.120092      1007.0  2.325635     39.43   \n",
       "20638  1.8672      18.0  5.329513   1.171920       741.0  2.123209     39.43   \n",
       "20639  2.3886      16.0  5.254717   1.162264      1387.0  2.616981     39.37   \n",
       "\n",
       "       Longitude  \n",
       "0        -122.23  \n",
       "1        -122.22  \n",
       "2        -122.24  \n",
       "3        -122.25  \n",
       "4        -122.25  \n",
       "...          ...  \n",
       "20635    -121.09  \n",
       "20636    -121.21  \n",
       "20637    -121.22  \n",
       "20638    -121.32  \n",
       "20639    -121.24  \n",
       "\n",
       "[20640 rows x 8 columns]"
      ]
     },
     "execution_count": 30,
     "metadata": {},
     "output_type": "execute_result"
    }
   ],
   "source": [
    "california_housing.data"
   ]
  },
  {
   "cell_type": "code",
   "execution_count": 31,
   "id": "f86199e1",
   "metadata": {},
   "outputs": [
    {
     "data": {
      "text/plain": [
       "'.. _california_housing_dataset:\\n\\nCalifornia Housing dataset\\n--------------------------\\n\\n**Data Set Characteristics:**\\n\\n    :Number of Instances: 20640\\n\\n    :Number of Attributes: 8 numeric, predictive attributes and the target\\n\\n    :Attribute Information:\\n        - MedInc        median income in block group\\n        - HouseAge      median house age in block group\\n        - AveRooms      average number of rooms per household\\n        - AveBedrms     average number of bedrooms per household\\n        - Population    block group population\\n        - AveOccup      average number of household members\\n        - Latitude      block group latitude\\n        - Longitude     block group longitude\\n\\n    :Missing Attribute Values: None\\n\\nThis dataset was obtained from the StatLib repository.\\nhttps://www.dcc.fc.up.pt/~ltorgo/Regression/cal_housing.html\\n\\nThe target variable is the median house value for California districts,\\nexpressed in hundreds of thousands of dollars ($100,000).\\n\\nThis dataset was derived from the 1990 U.S. census, using one row per census\\nblock group. A block group is the smallest geographical unit for which the U.S.\\nCensus Bureau publishes sample data (a block group typically has a population\\nof 600 to 3,000 people).\\n\\nAn household is a group of people residing within a home. Since the average\\nnumber of rooms and bedrooms in this dataset are provided per household, these\\ncolumns may take surpinsingly large values for block groups with few households\\nand many empty houses, such as vacation resorts.\\n\\nIt can be downloaded/loaded using the\\n:func:`sklearn.datasets.fetch_california_housing` function.\\n\\n.. topic:: References\\n\\n    - Pace, R. Kelley and Ronald Barry, Sparse Spatial Autoregressions,\\n      Statistics and Probability Letters, 33 (1997) 291-297\\n'"
      ]
     },
     "execution_count": 31,
     "metadata": {},
     "output_type": "execute_result"
    }
   ],
   "source": [
    "california_housing.DESCR"
   ]
  },
  {
   "cell_type": "markdown",
   "id": "b1e4cea3",
   "metadata": {},
   "source": [
    "Ce dataset comporte 20640 lignes et 8 colonnes avec des data numériques. \n",
    "Features du dataset : MedInc HouseAge AveRooms AveBedrms Population AveOccup Latitude Longitude     \n",
    "Target du dataset : MedHouseVal (exprimée en centaines de milliers de dollars ($100,000))"
   ]
  },
  {
   "cell_type": "code",
   "execution_count": 32,
   "id": "0276da54",
   "metadata": {},
   "outputs": [
    {
     "name": "stdout",
     "output_type": "stream",
     "text": [
      "<class 'pandas.core.frame.DataFrame'>\n",
      "RangeIndex: 20640 entries, 0 to 20639\n",
      "Data columns (total 8 columns):\n",
      " #   Column      Non-Null Count  Dtype  \n",
      "---  ------      --------------  -----  \n",
      " 0   MedInc      20640 non-null  float64\n",
      " 1   HouseAge    20640 non-null  float64\n",
      " 2   AveRooms    20640 non-null  float64\n",
      " 3   AveBedrms   20640 non-null  float64\n",
      " 4   Population  20640 non-null  float64\n",
      " 5   AveOccup    20640 non-null  float64\n",
      " 6   Latitude    20640 non-null  float64\n",
      " 7   Longitude   20640 non-null  float64\n",
      "dtypes: float64(8)\n",
      "memory usage: 1.3 MB\n"
     ]
    }
   ],
   "source": [
    "california_housing.data.info()"
   ]
  },
  {
   "cell_type": "code",
   "execution_count": 33,
   "id": "247c7c7a",
   "metadata": {},
   "outputs": [
    {
     "data": {
      "image/png": "[encoded data removed]",
      "text/plain": [
       "<Figure size 864x720 with 9 Axes>"
      ]
     },
     "metadata": {
      "needs_background": "light"
     },
     "output_type": "display_data"
    }
   ],
   "source": [
    "california_housing.frame.hist(figsize=(12, 10), bins=30, edgecolor=\"black\")\n",
    "plt.subplots_adjust(hspace=0.7, wspace=0.4)"
   ]
  },
  {
   "cell_type": "markdown",
   "id": "cffbe00a",
   "metadata": {},
   "source": [
    "Ces histogrammes permettent de visualiser les fréquences de répartition des données pour chaque features."
   ]
  },
  {
   "cell_type": "code",
   "execution_count": 34,
   "id": "413fd329",
   "metadata": {},
   "outputs": [
    {
     "data": {
      "text/plain": [
       "<AxesSubplot:>"
      ]
     },
     "execution_count": 34,
     "metadata": {},
     "output_type": "execute_result"
    },
    {
     "data": {
      "image/png": "[encoded data removed]",
      "text/plain": [
       "<Figure size 432x288 with 2 Axes>"
      ]
     },
     "metadata": {
      "needs_background": "light"
     },
     "output_type": "display_data"
    }
   ],
   "source": [
    "matrice_corr = california_housing.frame.corr().round(1)\n",
    "sns.heatmap(data=matrice_corr, annot=True)"
   ]
  },
  {
   "cell_type": "markdown",
   "id": "1e2e2255",
   "metadata": {},
   "source": [
    "La heatmap des corrélation nous permet de visualiser les différents score de corrélations entre les features (plus le score est proche de 1 plus les deux paramètres sont liés). Nous devons regarder les scores pour le ligne de notre target : MedHouseval pour voir si le features à une influence forte sur le prix de la maison. Ici nous pouvons constater que la feature MedInc est celle qui à la plus forte influence sur le prix de la maison avec un score de corrélation de 0.7. Les autres feature ont une influence moindre."
   ]
  },
  {
   "cell_type": "markdown",
   "id": "191ba167",
   "metadata": {},
   "source": [
    "###  Modèle de régression linéaire"
   ]
  },
  {
   "cell_type": "markdown",
   "id": "64b5f7da",
   "metadata": {},
   "source": [
    "Définition des données d'entrées (features) et de la données de sortie (target)."
   ]
  },
  {
   "cell_type": "code",
   "execution_count": 35,
   "id": "4216d6d0",
   "metadata": {},
   "outputs": [],
   "source": [
    "Features_X = california_housing.data\n",
    "Target_y = california_housing.target"
   ]
  },
  {
   "cell_type": "markdown",
   "id": "f8278f8e",
   "metadata": {},
   "source": [
    "On sépare nos données en deux parties : données de tests et données d'entrainements"
   ]
  },
  {
   "cell_type": "code",
   "execution_count": 36,
   "id": "212977c3",
   "metadata": {},
   "outputs": [],
   "source": [
    "# Split the data into training/testing sets\n",
    "Features_X_train = Features_X[:-200]\n",
    "Features_X_test = Features_X[-200:]\n",
    "# Split the targets into training/testing sets\n",
    "Target_y_train = Target_y[:-200]\n",
    "Target_y_test = Target_y[-200:]"
   ]
  },
  {
   "cell_type": "markdown",
   "id": "8e11bc89",
   "metadata": {},
   "source": [
    "On créer le model : "
   ]
  },
  {
   "cell_type": "code",
   "execution_count": 50,
   "id": "76c4ac18",
   "metadata": {},
   "outputs": [],
   "source": [
    "# Create linear regression object\n",
    "regr = linear_model.LinearRegression()"
   ]
  },
  {
   "cell_type": "markdown",
   "id": "a7aecead",
   "metadata": {},
   "source": [
    "Et on l'entraine, et on affiche les metrics. "
   ]
  },
  {
   "cell_type": "code",
   "execution_count": 38,
   "id": "18dda4a2",
   "metadata": {},
   "outputs": [
    {
     "name": "stdout",
     "output_type": "stream",
     "text": [
      "Coefficients: \n",
      " [ 4.37395347e-01  9.43450592e-03 -1.07131346e-01  6.44208131e-01\n",
      " -4.87109755e-06 -3.78622950e-03 -4.22235910e-01 -4.35035000e-01]\n",
      "Mean squared error: 0.33\n",
      "Coefficient of determination: 0.54\n"
     ]
    }
   ],
   "source": [
    "# Train the model using the training sets\n",
    "regr.fit(Features_X_train, Target_y_train)\n",
    "\n",
    "# Make predictions using the testing set\n",
    "Target_y_pred = regr.predict(Features_X_test)\n",
    "\n",
    "# The coefficients\n",
    "print(\"Coefficients: \\n\", regr.coef_)\n",
    "# The mean squared error\n",
    "print(\"Mean squared error: %.2f\" % mean_squared_error(Target_y_test, Target_y_pred))\n",
    "# The coefficient of determination: 1 is perfect prediction\n",
    "print(\"Coefficient of determination: %.2f\" % r2_score(Target_y_test, Target_y_pred))"
   ]
  },
  {
   "cell_type": "markdown",
   "id": "6f3f5ebe",
   "metadata": {},
   "source": [
    "Les coefficents réprésentent chaque coefficient pour chaque feature, ils permettent de retrouvé l'équation de la droite à partir de laquelle on va prédire le prix des maisons.\n",
    "Le coefficient de determination (R2 score) est un indicateur utilisé en statistiques pour juger de la qualité d'une régression linéaire. Ici le score de 0.54 est un score moyen, on considère qu’un R2 est élevé lorsqu’ils se situe entre 0.85 et 1.\n",
    "\n",
    "Le mean squared error (moyenne des carrés des erreurs) est indicateur d'écart, il doit être minimiser en fonction de l'ordre de grandeur des données prédites. Ici nous avons un bon score MSE : 0.33 pour de valeurs d'un ordre de grandeur de entre 0.2 et 7."
   ]
  },
  {
   "cell_type": "markdown",
   "id": "db18d390",
   "metadata": {},
   "source": [
    "### Test avec une seule feature"
   ]
  },
  {
   "cell_type": "markdown",
   "id": "6a332261",
   "metadata": {},
   "source": [
    "Plus haut nous avons vu que la feature semblée avoir plus d'impact que les autres sur les prix des maisons, nous allons tester de faire une regréssion linéaire avec juste ce paramètre."
   ]
  },
  {
   "cell_type": "code",
   "execution_count": 39,
   "id": "a4f50af0",
   "metadata": {},
   "outputs": [
    {
     "name": "stdout",
     "output_type": "stream",
     "text": [
      "Coefficients: \n",
      " [0.41790673]\n",
      "Mean squared error: 0.48\n",
      "Coefficient of determination: 0.32\n"
     ]
    },
    {
     "data": {
      "image/png": "[encoded data removed]",
      "text/plain": [
       "<Figure size 432x288 with 1 Axes>"
      ]
     },
     "metadata": {},
     "output_type": "display_data"
    }
   ],
   "source": [
    "MedInc_X = np.array(california_housing.data.MedInc.values)[:,np.newaxis]\n",
    "Target_y = np.array(california_housing.target)\n",
    "\n",
    "# Split the data into training/testing sets\n",
    "MedInc_X_train = MedInc_X[:-200]\n",
    "MedInc_X_test = MedInc_X[-200:]\n",
    "\n",
    "# Split the targets into training/testing sets\n",
    "Target_y_train = Target_y[:-200]\n",
    "Target_y_test = Target_y[-200:]\n",
    "\n",
    "# Create linear regression object\n",
    "regr = linear_model.LinearRegression()\n",
    "\n",
    "# Train the model using the training sets\n",
    "regr.fit(MedInc_X_train, Target_y_train)\n",
    "\n",
    "# Make predictions using the testing set\n",
    "Target_y_pred = regr.predict(MedInc_X_test)\n",
    "\n",
    "# The coefficients\n",
    "print(\"Coefficients: \\n\", regr.coef_)\n",
    "# The mean squared error\n",
    "print(\"Mean squared error: %.2f\" % mean_squared_error(Target_y_test, Target_y_pred))\n",
    "# The coefficient of determination: 1 is perfect prediction\n",
    "print(\"Coefficient of determination: %.2f\" % r2_score(Target_y_test, Target_y_pred))\n",
    "\n",
    "# Plot outputs\n",
    "plt.scatter(MedInc_X_test, Target_y_test, color=\"black\")\n",
    "plt.plot(MedInc_X_test, Target_y_pred, color=\"blue\", linewidth=3)\n",
    "\n",
    "plt.xticks(())\n",
    "plt.yticks(())\n",
    "\n",
    "plt.show()"
   ]
  },
  {
   "cell_type": "markdown",
   "id": "1d572e15",
   "metadata": {},
   "source": [
    "Finalement le R2 n'a pas augmenté par rapport à la corrélation avec toutes les features, il se peut que les outliers diminue ce score."
   ]
  },
  {
   "cell_type": "markdown",
   "id": "91ad055c",
   "metadata": {},
   "source": [
    "## Test avec différents pourcentages de données d'entrainements"
   ]
  },
  {
   "cell_type": "markdown",
   "id": "7d20aeae",
   "metadata": {},
   "source": [
    "On peut varier le pourcentage des données d'entrainements et des données de tests pour voir l'impact sur les résultats du modèles. "
   ]
  },
  {
   "cell_type": "markdown",
   "id": "c43ef277",
   "metadata": {},
   "source": [
    "### Test avec 20% de données de tests"
   ]
  },
  {
   "cell_type": "code",
   "execution_count": 40,
   "id": "eea1b164",
   "metadata": {},
   "outputs": [
    {
     "name": "stdout",
     "output_type": "stream",
     "text": [
      "Coefficients: \n",
      " [0.40795045]\n",
      "Mean squared error: 0.69\n",
      "Coefficient of determination: 0.53\n"
     ]
    },
    {
     "data": {
      "image/png": "[encoded data removed]",
      "text/plain": [
       "<Figure size 432x288 with 1 Axes>"
      ]
     },
     "metadata": {},
     "output_type": "display_data"
    }
   ],
   "source": [
    "# Split data \n",
    "X_train, X_test, y_train, y_test = train_test_split(MedInc_X, Target_y, test_size=0.20, shuffle=False)\n",
    "\n",
    "# Create linear regression object\n",
    "regr = linear_model.LinearRegression()\n",
    "\n",
    "# Train the model using the training sets\n",
    "regr.fit(X_train, y_train)\n",
    "# Make predictions using the testing set\n",
    "y_pred = regr.predict(X_test)\n",
    "\n",
    "# The coefficients\n",
    "print(\"Coefficients: \\n\", regr.coef_)\n",
    "# The mean squared error\n",
    "print(\"Mean squared error: %.2f\" % mean_squared_error(y_test, y_pred))\n",
    "# The coefficient of determination: 1 is perfect prediction\n",
    "print(\"Coefficient of determination: %.2f\" % r2_score(y_test, y_pred))\n",
    "\n",
    "# Plot outputs\n",
    "plt.scatter(X_test, y_test, color=\"black\")\n",
    "plt.plot(X_test, y_pred, color=\"blue\", linewidth=3)\n",
    "\n",
    "plt.xticks(())\n",
    "plt.yticks(())\n",
    "\n",
    "plt.show()"
   ]
  },
  {
   "cell_type": "markdown",
   "id": "350d90dc",
   "metadata": {},
   "source": [
    "### Test avec 10%"
   ]
  },
  {
   "cell_type": "code",
   "execution_count": 41,
   "id": "a0b0087c",
   "metadata": {},
   "outputs": [
    {
     "name": "stdout",
     "output_type": "stream",
     "text": [
      "Coefficients: \n",
      " [0.41333863]\n",
      "Mean squared error: 0.50\n",
      "Coefficient of determination: 0.38\n"
     ]
    },
    {
     "data": {
      "image/png": "[encoded data removed]",
      "text/plain": [
       "<Figure size 432x288 with 1 Axes>"
      ]
     },
     "metadata": {},
     "output_type": "display_data"
    }
   ],
   "source": [
    "# Split data \n",
    "X_train, X_test, y_train, y_test = train_test_split(MedInc_X, Target_y, test_size=0.10, shuffle=False)\n",
    "\n",
    "# Create linear regression object\n",
    "regr = linear_model.LinearRegression()\n",
    "\n",
    "# Train the model using the training sets\n",
    "regr.fit(X_train, y_train)\n",
    "# Make predictions using the testing set\n",
    "y_pred = regr.predict(X_test)\n",
    "\n",
    "# The coefficients\n",
    "print(\"Coefficients: \\n\", regr.coef_)\n",
    "# The mean squared error\n",
    "print(\"Mean squared error: %.2f\" % mean_squared_error(y_test, y_pred))\n",
    "# The coefficient of determination: 1 is perfect prediction\n",
    "print(\"Coefficient of determination: %.2f\" % r2_score(y_test, y_pred))\n",
    "\n",
    "# Plot outputs\n",
    "plt.scatter(X_test, y_test, color=\"black\")\n",
    "plt.plot(X_test, y_pred, color=\"blue\", linewidth=3)\n",
    "\n",
    "plt.xticks(())\n",
    "plt.yticks(())\n",
    "\n",
    "plt.show()"
   ]
  },
  {
   "cell_type": "markdown",
   "id": "c2324a11",
   "metadata": {},
   "source": [
    "### Test avec 2%"
   ]
  },
  {
   "cell_type": "code",
   "execution_count": 42,
   "id": "db4d1ebf",
   "metadata": {},
   "outputs": [
    {
     "name": "stdout",
     "output_type": "stream",
     "text": [
      "Coefficients: \n",
      " [0.41820714]\n",
      "Mean squared error: 0.52\n",
      "Coefficient of determination: 0.53\n"
     ]
    },
    {
     "data": {
      "image/png": "[encoded data removed]",
      "text/plain": [
       "<Figure size 432x288 with 1 Axes>"
      ]
     },
     "metadata": {},
     "output_type": "display_data"
    }
   ],
   "source": [
    "# Split data \n",
    "X_train, X_test, y_train, y_test = train_test_split(MedInc_X, Target_y, test_size=0.02, shuffle=False)\n",
    "\n",
    "# Create linear regression object\n",
    "regr = linear_model.LinearRegression()\n",
    "\n",
    "# Train the model using the training sets\n",
    "regr.fit(X_train, y_train)\n",
    "# Make predictions using the testing set\n",
    "y_pred = regr.predict(X_test)\n",
    "\n",
    "# The coefficients\n",
    "print(\"Coefficients: \\n\", regr.coef_)\n",
    "# The mean squared error\n",
    "print(\"Mean squared error: %.2f\" % mean_squared_error(y_test, y_pred))\n",
    "# The coefficient of determination: 1 is perfect prediction\n",
    "print(\"Coefficient of determination: %.2f\" % r2_score(y_test, y_pred))\n",
    "\n",
    "# Plot outputs\n",
    "plt.scatter(X_test, y_test, color=\"black\")\n",
    "plt.plot(X_test, y_pred, color=\"blue\", linewidth=3)\n",
    "\n",
    "plt.xticks(())\n",
    "plt.yticks(())\n",
    "\n",
    "plt.show()"
   ]
  },
  {
   "cell_type": "markdown",
   "id": "22a63f06",
   "metadata": {},
   "source": [
    "On peut voir que le pourcentage de répartition des données à un impact sur les metrics :\n",
    "- % de données de tests : R2\n",
    "- 20% : 0.53 \n",
    "- 10% : 0.38\n",
    "- 2% : 0.53\n"
   ]
  },
  {
   "cell_type": "markdown",
   "id": "9c10b864",
   "metadata": {},
   "source": [
    "## Test avec 3 features : MedInc,HouseAge,AveRooms"
   ]
  },
  {
   "cell_type": "markdown",
   "id": "8b41d16b",
   "metadata": {},
   "source": [
    "Ici on va tester d'utiliser les trois features qui semble avoir le plus d'impact sur le prix de la maison (cf heatmap) : MedInc, HouseAge et AveRooms."
   ]
  },
  {
   "cell_type": "code",
   "execution_count": 43,
   "id": "e2337376",
   "metadata": {},
   "outputs": [],
   "source": [
    "Three_features_X = np.array(california_housing.data[['MedInc','HouseAge','AveRooms']])\n",
    "Target_y = np.array(california_housing.target)"
   ]
  },
  {
   "cell_type": "code",
   "execution_count": 44,
   "id": "bcef2926",
   "metadata": {},
   "outputs": [
    {
     "name": "stdout",
     "output_type": "stream",
     "text": [
      "Coefficients: \n",
      " [ 0.43328644  0.01761171 -0.02357317]\n",
      "Mean squared error: 0.66\n",
      "Coefficient of determination: 0.55\n"
     ]
    }
   ],
   "source": [
    "\n",
    "Three_features_X_train, Three_features_X_test, Target_y_train, Target_y_test = train_test_split(\n",
    "    Three_features_X, Target_y, test_size=0.2, shuffle=False\n",
    ")\n",
    "\n",
    "# Create linear regression object\n",
    "regr = linear_model.LinearRegression()\n",
    "\n",
    "# Train the model using the training sets\n",
    "regr.fit(Three_features_X_train, Target3_y_train)\n",
    "\n",
    "# Make predictions using the testing set\n",
    "Target_y_pred = regr.predict(Three_features_X_test)\n",
    "\n",
    "# The coefficients\n",
    "print(\"Coefficients: \\n\", regr.coef_)\n",
    "# The mean squared error\n",
    "print(\"Mean squared error: %.2f\" % mean_squared_error(Target_y_test, Target_y_pred))\n",
    "# The coefficient of determination: 1 is perfect prediction\n",
    "print(\"Coefficient of determination: %.2f\" % r2_score(Target_y_test, Target_y_pred))\n"
   ]
  },
  {
   "cell_type": "markdown",
   "id": "9223bd01",
   "metadata": {},
   "source": [
    "Quelque soit les paramètres testés le coefficient de détermination n'est jamais proche de 0.85, (max = 0.55), il faudrait tester avec un autre modèle ou vérifier les outliers de ces données."
   ]
  },
  {
   "cell_type": "markdown",
   "id": "310467e2",
   "metadata": {},
   "source": [
    "### C'est la fin de ce tuto sur le modèle de régression linéaire. Vous pouvez tester ce modèle avec d'autres paramètres (% de séparation des donées tests/trains, nombre de features d'entrées...) ou d'autres données."
   ]
  }
 ],
 "metadata": {
  "kernelspec": {
   "display_name": "Python 3 (ipykernel)",
   "language": "python",
   "name": "python3"
  },
  "language_info": {
   "codemirror_mode": {
    "name": "ipython",
    "version": 3
   },
   "file_extension": ".py",
   "mimetype": "text/x-python",
   "name": "python",
   "nbconvert_exporter": "python",
   "pygments_lexer": "ipython3",
   "version": "3.9.12"
  }
 },
 "nbformat": 4,
 "nbformat_minor": 5
}
